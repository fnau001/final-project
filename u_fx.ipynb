{
 "cells": [
  {
   "cell_type": "markdown",
   "metadata": {},
   "source": [
    "<h1>Final project</h1>\n",
    "<h2>Functions/References</h2>"
   ]
  },
  {
   "cell_type": "markdown",
   "metadata": {},
   "source": [
    "<p>This notebook contains user defined functions that are used throughout the final project</p>"
   ]
  },
  {
   "cell_type": "code",
   "execution_count": 7,
   "metadata": {},
   "outputs": [],
   "source": [
    "def glimpse(df):\n",
    "    '''\n",
    "    takes a dataframe as input and outputs \n",
    "    another dataframe showing descriptive stats\n",
    "    '''\n",
    "    table = df.describe()\n",
    "    t = df.isnull().sum()\n",
    "    u = []\n",
    "\n",
    "    for i in t.index.values:\n",
    "        u.append(len(df[i].unique()))\n",
    "\n",
    "    d = pd.DataFrame(t, columns = ['nulls'])\n",
    "    d['unique'] = u\n",
    "    d['percent_unique'] = d['unique'] / len(df) * 100\n",
    "    d['dtypes'] = [*df.dtypes]\n",
    "    \n",
    "    return table, d"
   ]
  },
  {
   "cell_type": "code",
   "execution_count": 8,
   "metadata": {},
   "outputs": [],
   "source": [
    "# Dictionary to convert two letter Brazilian state codes to full name\n",
    "uf =  {'AC':'Acre',\n",
    "       'AL':'Alagoas',\n",
    "       'AP':'Amapá',\n",
    "       'AM':'Amazonas',\n",
    "       'BA':'Bahia',\n",
    "       'CE':'Ceará',\n",
    "       'DF':'Distrito Federal',\n",
    "       'ES':'Espírito Santo',\n",
    "       'GO':'Goiás',\n",
    "       'MA':'Maranhão',\n",
    "       'MT':'Mato Grosso',\n",
    "       'MS':'Mato Grosso do Sul',\n",
    "       'MG':'Minas Gerais',\n",
    "       'PA':'Pará',\n",
    "       'PB':'Paraíba',\n",
    "       'PR':'Paraná',\n",
    "       'PE':'Pernambuco',\n",
    "       'PI':'Piauí',\n",
    "       'RJ':'Rio de Janeiro',\n",
    "       'RN':'Rio Grande do Norte',\n",
    "       'RS':'Rio Grande do Sul',\n",
    "       'RO':'Rondônia',\n",
    "       'RR':'Roraima',\n",
    "       'SC':'Santa Catarina',\n",
    "       'SP':'São Paulo',\n",
    "       'SE':'Sergipe',\n",
    "       'TO':'Tocantins'}"
   ]
  },
  {
   "cell_type": "code",
   "execution_count": 31,
   "metadata": {},
   "outputs": [],
   "source": [
    "# Google cloud translate API\n",
    "from google.cloud import translate\n",
    "import os\n",
    "os.environ[\"GOOGLE_APPLICATION_CREDENTIALS\"]=\"/home/fred/gcloud/apikey.json\""
   ]
  },
  {
   "cell_type": "code",
   "execution_count": 32,
   "metadata": {},
   "outputs": [],
   "source": [
    "def translate_text(text, target='en'):\n",
    "    translate_client = translate.Client()\n",
    "    result = translate_client.translate(text, target_language = target)\n",
    "    return result['translatedText']"
   ]
  },
  {
   "cell_type": "code",
   "execution_count": 33,
   "metadata": {},
   "outputs": [
    {
     "data": {
      "text/plain": [
       "'Hello'"
      ]
     },
     "execution_count": 33,
     "metadata": {},
     "output_type": "execute_result"
    }
   ],
   "source": [
    "translate_text('hola', 'en')"
   ]
  },
  {
   "cell_type": "code",
   "execution_count": null,
   "metadata": {},
   "outputs": [],
   "source": []
  },
  {
   "cell_type": "code",
   "execution_count": null,
   "metadata": {},
   "outputs": [],
   "source": []
  }
 ],
 "metadata": {
  "kernelspec": {
   "display_name": "Python 3",
   "language": "python",
   "name": "python3"
  },
  "language_info": {
   "codemirror_mode": {
    "name": "ipython",
    "version": 3
   },
   "file_extension": ".py",
   "mimetype": "text/x-python",
   "name": "python",
   "nbconvert_exporter": "python",
   "pygments_lexer": "ipython3",
   "version": "3.7.3"
  },
  "toc": {
   "base_numbering": 1,
   "nav_menu": {},
   "number_sections": true,
   "sideBar": true,
   "skip_h1_title": false,
   "title_cell": "Table of Contents",
   "title_sidebar": "Contents",
   "toc_cell": false,
   "toc_position": {},
   "toc_section_display": true,
   "toc_window_display": false
  }
 },
 "nbformat": 4,
 "nbformat_minor": 2
}
